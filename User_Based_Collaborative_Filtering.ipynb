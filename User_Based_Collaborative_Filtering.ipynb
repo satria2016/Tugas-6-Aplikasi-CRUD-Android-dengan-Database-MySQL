{
  "nbformat": 4,
  "nbformat_minor": 0,
  "metadata": {
    "kernelspec": {
      "display_name": "Python 3",
      "language": "python",
      "name": "python3"
    },
    "language_info": {
      "codemirror_mode": {
        "name": "ipython",
        "version": 3
      },
      "file_extension": ".py",
      "mimetype": "text/x-python",
      "name": "python",
      "nbconvert_exporter": "python",
      "pygments_lexer": "ipython3",
      "version": "3.6.4"
    },
    "colab": {
      "name": "User Based Collaborative Filtering.ipynb",
      "provenance": [],
      "include_colab_link": true
    }
  },
  "cells": [
    {
      "cell_type": "markdown",
      "metadata": {
        "id": "view-in-github",
        "colab_type": "text"
      },
      "source": [
        "<a href=\"https://colab.research.google.com/github/satria2016/Tugas-6-Aplikasi-CRUD-Android-dengan-Database-MySQL/blob/main/User_Based_Collaborative_Filtering.ipynb\" target=\"_parent\"><img src=\"https://colab.research.google.com/assets/colab-badge.svg\" alt=\"Open In Colab\"/></a>"
      ]
    },
    {
      "cell_type": "markdown",
      "metadata": {
        "id": "WW1Y0kMhSfDB"
      },
      "source": [
        "### User Based Collaborative Filtering - ( Satria Adi Wicaksono) (Nim : 15051204035)"
      ]
    },
    {
      "cell_type": "markdown",
      "metadata": {
        "id": "raSV4-JvSfDx"
      },
      "source": [
        "<img src='https://buildingrecommenders.files.wordpress.com/2015/11/user-based-similarity-full.png?w=319&h=300'/>"
      ]
    },
    {
      "cell_type": "code",
      "metadata": {
        "id": "Oc24y-pRSfDz"
      },
      "source": [
        "# import necessary libraries\n",
        "\n",
        "import pandas as pd\n",
        "from math import sqrt"
      ],
      "execution_count": null,
      "outputs": []
    },
    {
      "cell_type": "code",
      "metadata": {
        "id": "baDCCGM3SfD0"
      },
      "source": [
        "#dictionary with usernames their watched web series and ratings out of 5\n",
        "\n",
        "dataset={\n",
        "        'Tanya': {'Special Ops': 5,\n",
        "                  'Criminal Justice': 3,\n",
        "                  'Panchayat': 3,\n",
        "                  'Sacred Games': 3,\n",
        "                  'Apharan': 2,\n",
        "                  'Mirzapur': 3},\n",
        "    \n",
        "        'Mohan': {'Special Ops': 5,\n",
        "                    'Criminal Justice': 3,\n",
        "                    'Sacred Games': 5,\n",
        "                    'Panchayat':5,\n",
        "                    'Mirzapur': 3,\n",
        "                    'Apharan': 3},\n",
        "    \n",
        "        'Tasha': {'Special Ops': 2,\n",
        "                   'Panchayat': 5,\n",
        "                   'Sacred Games': 3,\n",
        "                   'Mirzapur': 4},\n",
        "    \n",
        "        'Nirbhay': {'Panchayat': 5,\n",
        "                   'Mirzapur': 4,\n",
        "                   'Sacred Games': 4,},\n",
        "    \n",
        "       'Muskan': {'Special Ops': 4,\n",
        "                    'Criminal Justice': 4,\n",
        "                    'Panchayat': 4,\n",
        "                    'Mirzapur': 3,\n",
        "                    'Apharan': 2},\n",
        "    \n",
        "       'Anshika': {'Special Ops': 3,\n",
        "                  'Panchayat': 4,\n",
        "                  'Mirzapur': 3,\n",
        "                  'Sacred Games': 5,\n",
        "                  'Apharan': 3},\n",
        "    \n",
        "      'Dhawal': {'Panchayat':4,\n",
        "                  'Apharan':1,\n",
        "                  'Sacred Games':4}}"
      ],
      "execution_count": null,
      "outputs": []
    },
    {
      "cell_type": "code",
      "metadata": {
        "id": "kHd1_WamSfD2",
        "outputId": "ed31b046-b1a3-43fb-ab50-5e771b9a291a"
      },
      "source": [
        "#create a data frame of this dataset\n",
        "\n",
        "dataset_df=pd.DataFrame(dataset)\n",
        "dataset_df.fillna(\"Not Seen Yet\",inplace=True)\n",
        "dataset_df"
      ],
      "execution_count": null,
      "outputs": [
        {
          "output_type": "execute_result",
          "data": {
            "text/html": [
              "<div>\n",
              "<style scoped>\n",
              "    .dataframe tbody tr th:only-of-type {\n",
              "        vertical-align: middle;\n",
              "    }\n",
              "\n",
              "    .dataframe tbody tr th {\n",
              "        vertical-align: top;\n",
              "    }\n",
              "\n",
              "    .dataframe thead th {\n",
              "        text-align: right;\n",
              "    }\n",
              "</style>\n",
              "<table border=\"1\" class=\"dataframe\">\n",
              "  <thead>\n",
              "    <tr style=\"text-align: right;\">\n",
              "      <th></th>\n",
              "      <th>Anshika</th>\n",
              "      <th>Dhawal</th>\n",
              "      <th>Mohan</th>\n",
              "      <th>Muskan</th>\n",
              "      <th>Nirbhay</th>\n",
              "      <th>Tanya</th>\n",
              "      <th>Tasha</th>\n",
              "    </tr>\n",
              "  </thead>\n",
              "  <tbody>\n",
              "    <tr>\n",
              "      <th>Apharan</th>\n",
              "      <td>3</td>\n",
              "      <td>1</td>\n",
              "      <td>3</td>\n",
              "      <td>2</td>\n",
              "      <td>Not Seen Yet</td>\n",
              "      <td>2</td>\n",
              "      <td>Not Seen Yet</td>\n",
              "    </tr>\n",
              "    <tr>\n",
              "      <th>Criminal Justice</th>\n",
              "      <td>Not Seen Yet</td>\n",
              "      <td>Not Seen Yet</td>\n",
              "      <td>3</td>\n",
              "      <td>4</td>\n",
              "      <td>Not Seen Yet</td>\n",
              "      <td>3</td>\n",
              "      <td>Not Seen Yet</td>\n",
              "    </tr>\n",
              "    <tr>\n",
              "      <th>Mirzapur</th>\n",
              "      <td>3</td>\n",
              "      <td>Not Seen Yet</td>\n",
              "      <td>3</td>\n",
              "      <td>3</td>\n",
              "      <td>4</td>\n",
              "      <td>3</td>\n",
              "      <td>4</td>\n",
              "    </tr>\n",
              "    <tr>\n",
              "      <th>Panchayat</th>\n",
              "      <td>4</td>\n",
              "      <td>4</td>\n",
              "      <td>5</td>\n",
              "      <td>4</td>\n",
              "      <td>5</td>\n",
              "      <td>3</td>\n",
              "      <td>5</td>\n",
              "    </tr>\n",
              "    <tr>\n",
              "      <th>Sacred Games</th>\n",
              "      <td>5</td>\n",
              "      <td>4</td>\n",
              "      <td>5</td>\n",
              "      <td>Not Seen Yet</td>\n",
              "      <td>4</td>\n",
              "      <td>3</td>\n",
              "      <td>3</td>\n",
              "    </tr>\n",
              "    <tr>\n",
              "      <th>Special Ops</th>\n",
              "      <td>3</td>\n",
              "      <td>Not Seen Yet</td>\n",
              "      <td>5</td>\n",
              "      <td>4</td>\n",
              "      <td>Not Seen Yet</td>\n",
              "      <td>5</td>\n",
              "      <td>2</td>\n",
              "    </tr>\n",
              "  </tbody>\n",
              "</table>\n",
              "</div>"
            ],
            "text/plain": [
              "                       Anshika        Dhawal  Mohan        Muskan  \\\n",
              "Apharan                      3             1      3             2   \n",
              "Criminal Justice  Not Seen Yet  Not Seen Yet      3             4   \n",
              "Mirzapur                     3  Not Seen Yet      3             3   \n",
              "Panchayat                    4             4      5             4   \n",
              "Sacred Games                 5             4      5  Not Seen Yet   \n",
              "Special Ops                  3  Not Seen Yet      5             4   \n",
              "\n",
              "                       Nirbhay  Tanya         Tasha  \n",
              "Apharan           Not Seen Yet      2  Not Seen Yet  \n",
              "Criminal Justice  Not Seen Yet      3  Not Seen Yet  \n",
              "Mirzapur                     4      3             4  \n",
              "Panchayat                    5      3             5  \n",
              "Sacred Games                 4      3             3  \n",
              "Special Ops       Not Seen Yet      5             2  "
            ]
          },
          "metadata": {
            "tags": []
          },
          "execution_count": 3
        }
      ]
    },
    {
      "cell_type": "code",
      "metadata": {
        "id": "PCYvJ5pLSfD5"
      },
      "source": [
        "# custom function to create unique set of web series\n",
        "\n",
        "def unique_items():\n",
        "    unique_items_list = []\n",
        "    for person in dataset.keys():\n",
        "        for items in dataset[person]:\n",
        "            unique_items_list.append(items)\n",
        "    s=set(unique_items_list)\n",
        "    unique_items_list=list(s)\n",
        "    return unique_items_list"
      ],
      "execution_count": null,
      "outputs": []
    },
    {
      "cell_type": "code",
      "metadata": {
        "id": "L1gVQ9yuSfD5",
        "outputId": "11309b41-4f43-4764-b67d-1e8d502938e2"
      },
      "source": [
        "unique_items()"
      ],
      "execution_count": null,
      "outputs": [
        {
          "output_type": "execute_result",
          "data": {
            "text/plain": [
              "['Special Ops',\n",
              " 'Apharan',\n",
              " 'Sacred Games',\n",
              " 'Panchayat',\n",
              " 'Mirzapur',\n",
              " 'Criminal Justice']"
            ]
          },
          "metadata": {
            "tags": []
          },
          "execution_count": 5
        }
      ]
    },
    {
      "cell_type": "markdown",
      "metadata": {
        "id": "Ab0obGGVSfD6"
      },
      "source": [
        "<img src='https://miro.medium.com/max/2512/1*Xvf2o6kE4VCuueMPikxZ_A.png'/>"
      ]
    },
    {
      "cell_type": "code",
      "metadata": {
        "id": "7q2B4rdDSfD7"
      },
      "source": [
        "# custom function to create pearson correlation method from scratch\n",
        "\n",
        "def person_corelation(person1,person2):\n",
        "    both_rated = {}\n",
        "    for item in dataset[person1]:\n",
        "        if item in dataset[person2]:\n",
        "            both_rated[item] = 1\n",
        "\n",
        "    number_of_ratings = len(both_rated)\n",
        "    if number_of_ratings == 0:\n",
        "        return 0\n",
        "\n",
        "    person1_preferences_sum = sum([dataset[person1][item] for item in both_rated])\n",
        "    person2_preferences_sum = sum([dataset[person2][item] for item in both_rated])\n",
        "\n",
        "    # Sum up the squares of preferences of each user\n",
        "    person1_square_preferences_sum = sum([pow(dataset[person1][item], 2) for item in both_rated])\n",
        "    person2_square_preferences_sum = sum([pow(dataset[person2][item], 2) for item in both_rated])\n",
        "\n",
        "    # Sum up the product value of both preferences for each item\n",
        "    product_sum_of_both_users = sum([dataset[person1][item] * dataset[person2][item] for item in both_rated])\n",
        "\n",
        "    # Calculate the pearson score\n",
        "    numerator_value = product_sum_of_both_users - (\n",
        "    person1_preferences_sum * person2_preferences_sum / number_of_ratings)\n",
        "    denominator_value = sqrt((person1_square_preferences_sum - pow(person1_preferences_sum, 2) / number_of_ratings) * (\n",
        "    person2_square_preferences_sum - pow(person2_preferences_sum, 2) / number_of_ratings))\n",
        "    if denominator_value == 0:\n",
        "        return 0\n",
        "    else:\n",
        "        r = numerator_value / denominator_value\n",
        "        return r"
      ],
      "execution_count": null,
      "outputs": []
    },
    {
      "cell_type": "markdown",
      "metadata": {
        "id": "g8v4vcu0SfD8"
      },
      "source": [
        "## Phase 1 - User Similarity by using Pearson Correlation method"
      ]
    },
    {
      "cell_type": "code",
      "metadata": {
        "id": "KxC0o0v7SfD9"
      },
      "source": [
        "# custom function to check most similar users\n",
        "\n",
        "def most_similar_users(target_person,no_of_users):\n",
        "    \n",
        "    # Used list comprehension for finding pearson similarity between users\n",
        "    scores = [(person_corelation(target_person,other_person),other_person) for other_person in dataset if other_person !=target_person]\n",
        "    \n",
        "    #sort the scores in descending order\n",
        "    scores.sort(reverse=True)\n",
        "    \n",
        "    #return the scores between the target person & other persons\n",
        "    return scores[0:no_of_users]"
      ],
      "execution_count": null,
      "outputs": []
    },
    {
      "cell_type": "code",
      "metadata": {
        "id": "SieR_iFBSfD-",
        "outputId": "2878715b-07ad-4e56-bfaf-f54dec039ce4"
      },
      "source": [
        "# function check by input one person name & returns the similarity score \n",
        "\n",
        "most_similar_users('Mohan',6)"
      ],
      "execution_count": null,
      "outputs": [
        {
          "output_type": "execute_result",
          "data": {
            "text/plain": [
              "[(1.0000000000000004, 'Dhawal'),\n",
              " (0.6123724356957959, 'Muskan'),\n",
              " (0.6123724356957959, 'Anshika'),\n",
              " (0.5570860145311555, 'Tanya'),\n",
              " (0.49999999999999933, 'Nirbhay'),\n",
              " (-0.2581988897471611, 'Tasha')]"
            ]
          },
          "metadata": {
            "tags": []
          },
          "execution_count": 8
        }
      ]
    },
    {
      "cell_type": "code",
      "metadata": {
        "id": "-XPaqtNQSfD_"
      },
      "source": [
        "#custom function to filter the seen movies and unseen movies of the target user\n",
        "\n",
        "def target_movies_to_users(target_person):\n",
        "    target_person_movie_lst = []\n",
        "    unique_list =unique_items()\n",
        "    for movies in dataset[target_person]:\n",
        "        target_person_movie_lst.append(movies)\n",
        "\n",
        "    s=set(unique_list)\n",
        "    recommended_movies=list(s.difference(target_person_movie_lst))\n",
        "    a = len(recommended_movies)\n",
        "    if a == 0:\n",
        "        return 0\n",
        "    return recommended_movies,target_person_movie_lst"
      ],
      "execution_count": null,
      "outputs": []
    },
    {
      "cell_type": "code",
      "metadata": {
        "id": "weYQs-3dSfEA",
        "outputId": "3a9be8f6-bb90-4390-ddef-e31a9f059212"
      },
      "source": [
        "# function check\n",
        "\n",
        "unseen_movies,seen_movies=target_movies_to_users('Nirbhay')\n",
        "\n",
        "dct = {\"Unseen Movies\":unseen_movies,\"Seen Movies\":seen_movies}\n",
        "pd.DataFrame(dct)"
      ],
      "execution_count": null,
      "outputs": [
        {
          "output_type": "execute_result",
          "data": {
            "text/html": [
              "<div>\n",
              "<style scoped>\n",
              "    .dataframe tbody tr th:only-of-type {\n",
              "        vertical-align: middle;\n",
              "    }\n",
              "\n",
              "    .dataframe tbody tr th {\n",
              "        vertical-align: top;\n",
              "    }\n",
              "\n",
              "    .dataframe thead th {\n",
              "        text-align: right;\n",
              "    }\n",
              "</style>\n",
              "<table border=\"1\" class=\"dataframe\">\n",
              "  <thead>\n",
              "    <tr style=\"text-align: right;\">\n",
              "      <th></th>\n",
              "      <th>Seen Movies</th>\n",
              "      <th>Unseen Movies</th>\n",
              "    </tr>\n",
              "  </thead>\n",
              "  <tbody>\n",
              "    <tr>\n",
              "      <th>0</th>\n",
              "      <td>Panchayat</td>\n",
              "      <td>Special Ops</td>\n",
              "    </tr>\n",
              "    <tr>\n",
              "      <th>1</th>\n",
              "      <td>Mirzapur</td>\n",
              "      <td>Apharan</td>\n",
              "    </tr>\n",
              "    <tr>\n",
              "      <th>2</th>\n",
              "      <td>Sacred Games</td>\n",
              "      <td>Criminal Justice</td>\n",
              "    </tr>\n",
              "  </tbody>\n",
              "</table>\n",
              "</div>"
            ],
            "text/plain": [
              "    Seen Movies     Unseen Movies\n",
              "0     Panchayat       Special Ops\n",
              "1      Mirzapur           Apharan\n",
              "2  Sacred Games  Criminal Justice"
            ]
          },
          "metadata": {
            "tags": []
          },
          "execution_count": 10
        }
      ]
    },
    {
      "cell_type": "markdown",
      "metadata": {
        "id": "4TNYOOGUSfEB"
      },
      "source": [
        "## Phase 2: Recommendation Phase - recommending ```web series``` on the behalf of user similarity"
      ]
    },
    {
      "cell_type": "code",
      "metadata": {
        "id": "YDjAap1dSfEC"
      },
      "source": [
        "def recommendation_phase(person):\n",
        "    # Gets recommendations for a person by using a weighted average of every other user's rankings\n",
        "    totals = {}  #empty dictionary\n",
        "    simSums = {} # empty dictionary\n",
        "    for other in dataset:\n",
        "        # don't compare me to myself\n",
        "        if other == person:\n",
        "            continue\n",
        "        sim = person_corelation(person, other)\n",
        "\n",
        "        # ignore scores of zero or lower\n",
        "        if sim <= 0:\n",
        "            continue\n",
        "        for item in dataset[other]:\n",
        "            # only score movies i haven't seen yet\n",
        "            if item not in dataset[person]:\n",
        "                # Similrity * score\n",
        "                totals.setdefault(item, 0)\n",
        "                totals[item] += dataset[other][item] * sim\n",
        "                # sum of similarities\n",
        "                simSums.setdefault(item, 0)\n",
        "                simSums[item] += sim\n",
        "                # Create the normalized list\n",
        "\n",
        "    rankings = [(total / simSums[item], item) for item, total in totals.items()]\n",
        "    rankings.sort(reverse=True)\n",
        "    # returns the recommended items\n",
        "    recommendataions_list = [(recommend_item,score) for score, recommend_item in rankings]\n",
        "    return recommendataions_list"
      ],
      "execution_count": null,
      "outputs": []
    },
    {
      "cell_type": "code",
      "metadata": {
        "id": "UfUoGaPuSfED",
        "outputId": "dc726f26-c645-4be5-d1ab-7986e0928cb4"
      },
      "source": [
        "print(\"Enter the target person\")\n",
        "tp = input().title()\n",
        "if tp in dataset.keys():\n",
        "    a=recommendation_phase(tp)\n",
        "    if a != -1:\n",
        "        print(\"Recommendation Using User based Collaborative Filtering:  \")\n",
        "        for webseries,weights in a:\n",
        "            print(webseries,'---->',weights)\n",
        "else:\n",
        "    print(\"Person not found in the dataset..please try again\")"
      ],
      "execution_count": null,
      "outputs": [
        {
          "output_type": "stream",
          "text": [
            "Enter the target person\n",
            "nirbhay\n",
            "Recommendation Using User based Collaborative Filtering:  \n",
            "Criminal Justice ----> 3.666666666666667\n",
            "Special Ops ----> 3.479274057836309\n",
            "Apharan ----> 2.333333333333333\n"
          ],
          "name": "stdout"
        }
      ]
    },
    {
      "cell_type": "code",
      "metadata": {
        "id": "D23ypg4sSfED"
      },
      "source": [
        ""
      ],
      "execution_count": null,
      "outputs": []
    }
  ]
}